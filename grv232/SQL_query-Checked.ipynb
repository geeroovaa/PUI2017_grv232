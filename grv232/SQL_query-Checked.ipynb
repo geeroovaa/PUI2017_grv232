{
 "cells": [
  {
   "cell_type": "markdown",
   "metadata": {},
   "source": [
    "# SQL CARTO QUERY FUNCTION\n",
    "# written for PUI2016_Python2"
   ]
  },
  {
   "cell_type": "markdown",
   "metadata": {},
   "source": [
    "##### This notebook is set up to link as a default to the fb55 account.  To turn in the homework use the same account you used in the lab (hvt201)  and query the database that you were querying in class (citibike_feb_2015)"
   ]
  },
  {
   "cell_type": "code",
   "execution_count": 1,
   "metadata": {},
   "outputs": [
    {
     "ename": "SyntaxError",
     "evalue": "invalid syntax (<ipython-input-1-ab9982693636>, line 23)",
     "output_type": "error",
     "traceback": [
      "\u001b[0;36m  File \u001b[0;32m\"<ipython-input-1-ab9982693636>\"\u001b[0;36m, line \u001b[0;32m23\u001b[0m\n\u001b[0;31m    except urllib2.HTTPError, e:\u001b[0m\n\u001b[0m                            ^\u001b[0m\n\u001b[0;31mSyntaxError\u001b[0m\u001b[0;31m:\u001b[0m invalid syntax\n"
     ]
    }
   ],
   "source": [
    "SQL_SOURCE = 'https://geeroovaa.carto.com/api/v2/sql?q='\n",
    "\n",
    "import urllib2\n",
    "import urllib\n",
    "import StringIO\n",
    "import ast\n",
    "import pandas as pd\n",
    "\n",
    "def queryCartoDB(query, format='CSV', source=SQL_SOURCE):\n",
    "    '''queries carto datasets from a given carto account\n",
    "    Arguments: \n",
    "    query - string: a valid sql query string\n",
    "    format - outlut format  OPTIONAL (default CSV)\n",
    "    source - a valid sql api endpoint OPTIONAL (default carto fb55 account)\n",
    "    Returns:\n",
    "    the return of the sql query AS A STRING\n",
    "    NOTES:\n",
    "    designed for the carto API, tested only with CSV return format'''\n",
    "    \n",
    "    data = urllib.urlencode({'format': format, 'q': query}).encode('utf-8')\n",
    "    try:\n",
    "        response = urllib2.urlopen(source, data)\n",
    "    except urllib2.HTTPError, e:\n",
    "        raise ValueError('\\n'.join(ast.literal_eval(e.readline())['error']))\n",
    "    except Exception:\n",
    "        raise\n",
    "    return response.read()"
   ]
  },
  {
   "cell_type": "code",
   "execution_count": null,
   "metadata": {},
   "outputs": [],
   "source": [
    "test = '''\n",
    "SELECT *\n",
    "FROM citibike\n",
    "'''"
   ]
  },
  {
   "cell_type": "code",
   "execution_count": null,
   "metadata": {},
   "outputs": [],
   "source": [
    "pd.read_csv(StringIO.StringIO(queryCartoDB(test)), sep=',')"
   ]
  },
  {
   "cell_type": "code",
   "execution_count": null,
   "metadata": {},
   "outputs": [],
   "source": [
    "test='''\n",
    "SELECT * \n",
    "FROM citibike\n",
    "ORDER BY start_station_id\n",
    "'''\n",
    "pd.read_csv(StringIO.StringIO(queryCartoDB(test)), sep=',')"
   ]
  },
  {
   "cell_type": "code",
   "execution_count": null,
   "metadata": {},
   "outputs": [],
   "source": [
    "test='''\n",
    "SELECT * \n",
    "FROM citibike\n",
    "ORDER BY tripduration\n",
    "'''\n",
    "pd.read_csv(StringIO.StringIO(queryCartoDB(test)), sep=',')"
   ]
  },
  {
   "cell_type": "code",
   "execution_count": null,
   "metadata": {},
   "outputs": [],
   "source": [
    "test='''\n",
    "SELECT * \n",
    "FROM citibike\n",
    "WHERE tripduration < 10800\n",
    "ORDER BY tripduration\n",
    "FETCH FIRST 10 ROWS ONLY\n",
    "'''\n",
    "pd.read_csv(StringIO.StringIO(queryCartoDB(test)), sep=',')"
   ]
  },
  {
   "cell_type": "code",
   "execution_count": null,
   "metadata": {},
   "outputs": [],
   "source": [
    "test='''\n",
    "SELECT *\n",
    "FROM citibike\n",
    "WHERE tripduration < 10800\n",
    "ORDER BY tripduration DESC\n",
    "FETCH FIRST 10 ROWS ONLY\n",
    "'''\n",
    "pd.read_csv(StringIO.StringIO(queryCartoDB(test)), sep=',')"
   ]
  },
  {
   "cell_type": "code",
   "execution_count": null,
   "metadata": {},
   "outputs": [],
   "source": [
    "test='''\n",
    "SELECT DISTINCT start_station_id\n",
    "FROM citibike\n",
    "'''\n",
    "pd.read_csv(StringIO.StringIO(queryCartoDB(test)), sep=',')"
   ]
  },
  {
   "cell_type": "code",
   "execution_count": null,
   "metadata": {},
   "outputs": [],
   "source": [
    "test='''\n",
    "SELECT COUNT (*)\n",
    "FROM citibike\n",
    "'''\n",
    "pd.read_csv(StringIO.StringIO(queryCartoDB(test)), sep=',')"
   ]
  },
  {
   "cell_type": "code",
   "execution_count": null,
   "metadata": {},
   "outputs": [],
   "source": [
    "test='''\n",
    "SELECT MIN (tripduration)\n",
    "FROM citibike\n",
    "'''\n",
    "pd.read_csv(StringIO.StringIO(queryCartoDB(test)), sep=',')"
   ]
  },
  {
   "cell_type": "code",
   "execution_count": null,
   "metadata": {},
   "outputs": [],
   "source": [
    "test='''\n",
    "SELECT MAX (tripduration)\n",
    "FROM citibike\n",
    "'''\n",
    "pd.read_csv(StringIO.StringIO(queryCartoDB(test)), sep=',')"
   ]
  },
  {
   "cell_type": "code",
   "execution_count": null,
   "metadata": {},
   "outputs": [],
   "source": [
    "test='''\n",
    "SELECT AVG (tripduration)\n",
    "FROM citibike\n",
    "'''\n",
    "pd.read_csv(StringIO.StringIO(queryCartoDB(test)), sep=',')"
   ]
  },
  {
   "cell_type": "code",
   "execution_count": 2,
   "metadata": {},
   "outputs": [
    {
     "ename": "NameError",
     "evalue": "name 'pd' is not defined",
     "output_type": "error",
     "traceback": [
      "\u001b[0;31m---------------------------------------------------------------------------\u001b[0m",
      "\u001b[0;31mNameError\u001b[0m                                 Traceback (most recent call last)",
      "\u001b[0;32m<ipython-input-2-1b03c99f7b3a>\u001b[0m in \u001b[0;36m<module>\u001b[0;34m()\u001b[0m\n\u001b[1;32m      4\u001b[0m \u001b[0mWHERE\u001b[0m \u001b[0mstarttime\u001b[0m\u001b[0;34m>=\u001b[0m\u001b[0;34m'2015-02-02 00:00'\u001b[0m \u001b[0mAND\u001b[0m \u001b[0mstarttime\u001b[0m\u001b[0;34m<\u001b[0m\u001b[0;34m'2015-02-03 00:00'\u001b[0m\u001b[0;34m\u001b[0m\u001b[0m\n\u001b[1;32m      5\u001b[0m '''\n\u001b[0;32m----> 6\u001b[0;31m \u001b[0mpd\u001b[0m\u001b[0;34m.\u001b[0m\u001b[0mread_csv\u001b[0m\u001b[0;34m(\u001b[0m\u001b[0mStringIO\u001b[0m\u001b[0;34m.\u001b[0m\u001b[0mStringIO\u001b[0m\u001b[0;34m(\u001b[0m\u001b[0mqueryCartoDB\u001b[0m\u001b[0;34m(\u001b[0m\u001b[0mtest\u001b[0m\u001b[0;34m)\u001b[0m\u001b[0;34m)\u001b[0m\u001b[0;34m,\u001b[0m \u001b[0msep\u001b[0m\u001b[0;34m=\u001b[0m\u001b[0;34m','\u001b[0m\u001b[0;34m)\u001b[0m\u001b[0;34m\u001b[0m\u001b[0m\n\u001b[0m",
      "\u001b[0;31mNameError\u001b[0m: name 'pd' is not defined"
     ]
    }
   ],
   "source": [
    "test='''\n",
    "SELECT * \n",
    "FROM citibike\n",
    "WHERE starttime>='2015-02-02 00:00' AND starttime<'2015-02-03 00:00'\n",
    "'''\n",
    "pd.read_csv(StringIO.StringIO(queryCartoDB(test)), sep=',')"
   ]
  },
  {
   "cell_type": "code",
   "execution_count": null,
   "metadata": {},
   "outputs": [],
   "source": [
    "test='''\n",
    "SELECT * \n",
    "FROM citibike\n",
    "WHERE extract(DOW FROM starttime) IN (0,6)\n",
    "'''\n",
    "pd.read_csv(StringIO.StringIO(queryCartoDB(test)), sep=',')"
   ]
  },
  {
   "cell_type": "code",
   "execution_count": null,
   "metadata": {},
   "outputs": [],
   "source": [
    "test='''\n",
    "SELECT * FROM citibike\n",
    "WHERE extract(DOW FROM starttime) NOT IN (0,6)\n",
    "'''\n",
    "pd.read_csv(StringIO.StringIO(queryCartoDB(test)), sep=',')"
   ]
  },
  {
   "cell_type": "code",
   "execution_count": null,
   "metadata": {},
   "outputs": [],
   "source": [
    "test='''\n",
    "SELECT\n",
    " CDB_TransformToWebmercator(CDB_LatLng(\n",
    " start_station_latitude,\n",
    " start_station_longitude\n",
    " )\n",
    " ) as the_geom_webmercator,\n",
    " MIN(cartodb_id) as cartodb_id\n",
    "FROM citibike\n",
    "GROUP BY\n",
    " start_station_latitude,\n",
    " start_station_longitude\n",
    " '''\n",
    "pd.read_csv(StringIO.StringIO(queryCartoDB(test)), sep=',')"
   ]
  },
  {
   "cell_type": "code",
   "execution_count": null,
   "metadata": {},
   "outputs": [],
   "source": [
    "test='''\n",
    "SELECT\n",
    " start_station_id,\n",
    " CDB_TransformToWebmercator(CDB_LatLng(\n",
    " start_station_latitude,\n",
    " start_station_longitude\n",
    " )\n",
    " ) as the_geom_webmercator,\n",
    " MIN(cartodb_id) as cartodb_id,\n",
    " COUNT(tripduration) as numtrips\n",
    "FROM citibike\n",
    "GROUP BY\n",
    " start_station_id,\n",
    " start_station_latitude,\n",
    " start_station_longitude\n",
    "  '''\n",
    "pd.read_csv(StringIO.StringIO(queryCartoDB(test)), sep=',')"
   ]
  },
  {
   "cell_type": "code",
   "execution_count": null,
   "metadata": {},
   "outputs": [],
   "source": [
    "test='''\n",
    "SELECT\n",
    " start_station_id,\n",
    " CDB_TransformToWebmercator(CDB_LatLng(\n",
    " start_station_latitude,\n",
    " start_station_longitude\n",
    " )\n",
    " ) as the_geom_webmercator,\n",
    " MIN(cartodb_id) as cartodb_id,\n",
    " COUNT(tripduration) as numtrips\n",
    "FROM citibike\n",
    "WHERE\n",
    "ST_DWithin(CDB_LatLng(\n",
    " start_station_latitude,\n",
    " start_station_longitude\n",
    " )::geography,\n",
    " CDB_LatLng(40.7577,-73.9857)::geography,\n",
    " 500)\n",
    "GROUP BY\n",
    " start_station_id,\n",
    " start_station_latitude,\n",
    " start_station_longitude\n",
    " '''\n",
    "pd.read_csv(StringIO.StringIO(queryCartoDB(test)), sep=',')"
   ]
  },
  {
   "cell_type": "code",
   "execution_count": null,
   "metadata": {},
   "outputs": [],
   "source": [
    "test='''\n",
    "SELECT\n",
    " start_station_id,\n",
    " CDB_TransformToWebmercator(CDB_LatLng(\n",
    " start_station_latitude,\n",
    " start_station_longitude)\n",
    " ) as the_geom_webmercator,\n",
    " MIN(cartodb_id) as cartodb_id,\n",
    " AVG(tripduration) as avg_duration\n",
    "FROM citibike\n",
    "WHERE\n",
    "ST_DWithin(\n",
    " CDB_LatLng(\n",
    " start_station_latitude,\n",
    " start_station_longitude\n",
    " )::geography,\n",
    " CDB_LatLng(40.7577,-73.9857)::geography,\n",
    " 500)\n",
    "AND\n",
    "extract(DOW FROM starttime) IN (0,6)\n",
    "\n",
    "GROUP BY\n",
    " start_station_id,\n",
    " start_station_latitude,\n",
    " start_station_longitude\n",
    "ORDER BY avg_duration DESC\n",
    "LIMIT 1\n",
    "'''\n",
    "pd.read_csv(StringIO.StringIO(queryCartoDB(test)), sep=',')"
   ]
  },
  {
   "cell_type": "code",
   "execution_count": null,
   "metadata": {},
   "outputs": [],
   "source": [
    "test='''\n",
    "SELECT\n",
    " start_station_id,\n",
    " end_station_id,\n",
    " ST_Makeline(\n",
    " CDB_TransformToWebmercator(CDB_LatLng(\n",
    " start_station_latitude,\n",
    " start_station_longitude\n",
    " )),\n",
    " CDB_TransformToWebmercator(CDB_LatLng(\n",
    " end_station_latitude,\n",
    " end_station_longitude\n",
    " ))\n",
    " ) as the_geom_webmercator,\n",
    " MIN(cartodb_id) as cartodb_id,\n",
    " AVG(tripduration) as avg_duration\n",
    "FROM citibike\n",
    "WHERE\n",
    "tripduration<7200\n",
    "and\n",
    "ST_DWithin(\n",
    "CDB_LatLng(\n",
    " start_station_latitude,\n",
    " start_station_longitude\n",
    " )::geography,\n",
    " CDB_LatLng(40.7577,-73.9857)::geography,\n",
    " 500)\n",
    "GROUP BY\n",
    " start_station_id,\n",
    " start_station_latitude,\n",
    " start_station_longitude,\n",
    " end_station_id,\n",
    " end_station_latitude,\n",
    " end_station_longitude\n",
    " '''\n",
    "pd.read_csv(StringIO.StringIO(queryCartoDB(test)), sep=',')"
   ]
  },
  {
   "cell_type": "markdown",
   "metadata": {},
   "source": [
    "## ASH Score - 100, EXtra credit 0 "
   ]
  },
  {
   "cell_type": "code",
   "execution_count": null,
   "metadata": {},
   "outputs": [],
   "source": []
  }
 ],
 "metadata": {
  "anaconda-cloud": {},
  "kernelspec": {
   "display_name": "PUI2016_Python3",
   "language": "python",
   "name": "pui2016_python3"
  },
  "language_info": {
   "codemirror_mode": {
    "name": "ipython",
    "version": 3
   },
   "file_extension": ".py",
   "mimetype": "text/x-python",
   "name": "python",
   "nbconvert_exporter": "python",
   "pygments_lexer": "ipython3",
   "version": "3.5.4"
  }
 },
 "nbformat": 4,
 "nbformat_minor": 1
}
