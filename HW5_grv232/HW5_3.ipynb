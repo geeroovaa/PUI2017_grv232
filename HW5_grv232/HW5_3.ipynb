{
 "cells": [
  {
   "cell_type": "code",
   "execution_count": 20,
   "metadata": {
    "collapsed": false
   },
   "outputs": [
    {
     "name": "stdout",
     "output_type": "stream",
     "text": [
      "Populating the interactive namespace from numpy and matplotlib\n"
     ]
    }
   ],
   "source": [
    "import pandas as pd\n",
    "import numpy as np\n",
    "import matplotlib.pyplot as pl\n",
    "%pylab inline"
   ]
  },
  {
   "cell_type": "code",
   "execution_count": 2,
   "metadata": {
    "collapsed": false
   },
   "outputs": [],
   "source": [
    "df=pd.read_csv('https://github.com/fedhere/PUI2017_fb55/raw/master/HW5_fb55/'+\n",
    "               'World%20firearms%20murders%20and%20ownership%20-%20Sheet%201.csv')"
   ]
  },
  {
   "cell_type": "code",
   "execution_count": 3,
   "metadata": {
    "collapsed": false
   },
   "outputs": [],
   "source": [
    "pop = pd.read_csv('https://github.com/geeroovaa/PUI2017_grv232/raw/master/HW5_grv232/POP.csv',\n",
    "                  skiprows = [0,1,2,3],usecols=['Country Name','2012'])"
   ]
  },
  {
   "cell_type": "code",
   "execution_count": 4,
   "metadata": {
    "collapsed": false
   },
   "outputs": [],
   "source": [
    "gdp = pd.read_csv('https://github.com/geeroovaa/PUI2017_grv232/raw/master/HW5_grv232/GDP.csv', \n",
    "                  skiprows = [0,1,2,3],usecols=['Country Name','2012'])"
   ]
  },
  {
   "cell_type": "code",
   "execution_count": 5,
   "metadata": {
    "collapsed": true
   },
   "outputs": [],
   "source": [
    "ms = pd.read_csv('https://github.com/geeroovaa/PUI2017_grv232/raw/master/HW5_grv232/mass.csv')"
   ]
  },
  {
   "cell_type": "code",
   "execution_count": 6,
   "metadata": {
    "collapsed": false
   },
   "outputs": [],
   "source": [
    "df=df.rename(index=str, columns={\"Country/Territory\": \"Country\"})"
   ]
  },
  {
   "cell_type": "code",
   "execution_count": 7,
   "metadata": {
    "collapsed": false
   },
   "outputs": [],
   "source": [
    "pop=pop.rename(index=str, columns={\"Country Name\": \"Country\",'2012':'pop'})"
   ]
  },
  {
   "cell_type": "code",
   "execution_count": 8,
   "metadata": {
    "collapsed": true
   },
   "outputs": [],
   "source": [
    "gdp=gdp.rename(index=str, columns={\"Country Name\": \"Country\",'2012':'gdp'})"
   ]
  },
  {
   "cell_type": "code",
   "execution_count": 9,
   "metadata": {
    "collapsed": false
   },
   "outputs": [],
   "source": [
    "df= df.merge(pop, left_on=\"Country\", right_on=\"Country\")"
   ]
  },
  {
   "cell_type": "code",
   "execution_count": 10,
   "metadata": {
    "collapsed": false
   },
   "outputs": [],
   "source": [
    "df= df.merge(gdp, left_on=\"Country\", right_on=\"Country\")"
   ]
  },
  {
   "cell_type": "code",
   "execution_count": 14,
   "metadata": {
    "collapsed": false
   },
   "outputs": [],
   "source": [
    "df= df.merge(ms, left_on=\"Country\", right_on=\"Country\")"
   ]
  },
  {
   "cell_type": "code",
   "execution_count": 29,
   "metadata": {
    "collapsed": false
   },
   "outputs": [],
   "source": [
    "df_=df"
   ]
  },
  {
   "cell_type": "code",
   "execution_count": 31,
   "metadata": {
    "collapsed": false
   },
   "outputs": [
    {
     "data": {
      "text/html": [
       "<div>\n",
       "<style>\n",
       "    .dataframe thead tr:only-child th {\n",
       "        text-align: right;\n",
       "    }\n",
       "\n",
       "    .dataframe thead th {\n",
       "        text-align: left;\n",
       "    }\n",
       "\n",
       "    .dataframe tbody tr th {\n",
       "        vertical-align: top;\n",
       "    }\n",
       "</style>\n",
       "<table border=\"1\" class=\"dataframe\">\n",
       "  <thead>\n",
       "    <tr style=\"text-align: right;\">\n",
       "      <th></th>\n",
       "      <th>Country</th>\n",
       "      <th>ISO code</th>\n",
       "      <th>Source</th>\n",
       "      <th>% of homicides by firearm</th>\n",
       "      <th>Number of homicides by firearm</th>\n",
       "      <th>Homicide by firearm rate per 100,000 pop</th>\n",
       "      <th>Rank by rate of ownership</th>\n",
       "      <th>Average firearms per 100 people</th>\n",
       "      <th>Average total all civilian firearms</th>\n",
       "      <th>pop</th>\n",
       "      <th>gdp</th>\n",
       "      <th>Guns/100 inhabitants</th>\n",
       "      <th>Number of mass shootings</th>\n",
       "    </tr>\n",
       "  </thead>\n",
       "  <tbody>\n",
       "    <tr>\n",
       "      <th>0</th>\n",
       "      <td>Australia</td>\n",
       "      <td>AU</td>\n",
       "      <td>NSO</td>\n",
       "      <td>11.5</td>\n",
       "      <td>30.0</td>\n",
       "      <td>0.14</td>\n",
       "      <td>42.0</td>\n",
       "      <td>15.0</td>\n",
       "      <td>3050000.0</td>\n",
       "      <td>22728254.0</td>\n",
       "      <td>1.538194e+12</td>\n",
       "      <td>15.0</td>\n",
       "      <td>4</td>\n",
       "    </tr>\n",
       "    <tr>\n",
       "      <th>1</th>\n",
       "      <td>Austria</td>\n",
       "      <td>AT</td>\n",
       "      <td>CTS</td>\n",
       "      <td>29.5</td>\n",
       "      <td>18.0</td>\n",
       "      <td>0.22</td>\n",
       "      <td>14.0</td>\n",
       "      <td>30.4</td>\n",
       "      <td>2500000.0</td>\n",
       "      <td>8429991.0</td>\n",
       "      <td>4.074516e+11</td>\n",
       "      <td>30.4</td>\n",
       "      <td>1</td>\n",
       "    </tr>\n",
       "    <tr>\n",
       "      <th>2</th>\n",
       "      <td>Canada</td>\n",
       "      <td>CA</td>\n",
       "      <td>CTS</td>\n",
       "      <td>32.0</td>\n",
       "      <td>173.0</td>\n",
       "      <td>0.51</td>\n",
       "      <td>13.0</td>\n",
       "      <td>30.8</td>\n",
       "      <td>9950000.0</td>\n",
       "      <td>34750545.0</td>\n",
       "      <td>1.824289e+12</td>\n",
       "      <td>30.8</td>\n",
       "      <td>4</td>\n",
       "    </tr>\n",
       "    <tr>\n",
       "      <th>3</th>\n",
       "      <td>Denmark</td>\n",
       "      <td>DK</td>\n",
       "      <td>CTS</td>\n",
       "      <td>31.9</td>\n",
       "      <td>15.0</td>\n",
       "      <td>0.27</td>\n",
       "      <td>54.0</td>\n",
       "      <td>12.0</td>\n",
       "      <td>650000.0</td>\n",
       "      <td>5591572.0</td>\n",
       "      <td>3.271489e+11</td>\n",
       "      <td>12.0</td>\n",
       "      <td>0</td>\n",
       "    </tr>\n",
       "    <tr>\n",
       "      <th>4</th>\n",
       "      <td>Finland</td>\n",
       "      <td>FI</td>\n",
       "      <td>CTS</td>\n",
       "      <td>19.8</td>\n",
       "      <td>24.0</td>\n",
       "      <td>0.45</td>\n",
       "      <td>4.0</td>\n",
       "      <td>45.3</td>\n",
       "      <td>2400000.0</td>\n",
       "      <td>5413971.0</td>\n",
       "      <td>2.567065e+11</td>\n",
       "      <td>45.3</td>\n",
       "      <td>2</td>\n",
       "    </tr>\n",
       "    <tr>\n",
       "      <th>5</th>\n",
       "      <td>France</td>\n",
       "      <td>FR</td>\n",
       "      <td>WHO-MDB</td>\n",
       "      <td>9.6</td>\n",
       "      <td>35.0</td>\n",
       "      <td>0.06</td>\n",
       "      <td>12.0</td>\n",
       "      <td>31.2</td>\n",
       "      <td>19000000.0</td>\n",
       "      <td>65659790.0</td>\n",
       "      <td>2.681416e+12</td>\n",
       "      <td>31.2</td>\n",
       "      <td>6</td>\n",
       "    </tr>\n",
       "    <tr>\n",
       "      <th>6</th>\n",
       "      <td>Germany</td>\n",
       "      <td>DE</td>\n",
       "      <td>CTS/National police</td>\n",
       "      <td>26.3</td>\n",
       "      <td>158.0</td>\n",
       "      <td>0.19</td>\n",
       "      <td>15.0</td>\n",
       "      <td>30.3</td>\n",
       "      <td>25000000.0</td>\n",
       "      <td>80425823.0</td>\n",
       "      <td>3.543984e+12</td>\n",
       "      <td>30.3</td>\n",
       "      <td>7</td>\n",
       "    </tr>\n",
       "    <tr>\n",
       "      <th>7</th>\n",
       "      <td>Greece</td>\n",
       "      <td>GR</td>\n",
       "      <td>WHO-MDB</td>\n",
       "      <td>34.9</td>\n",
       "      <td>29.0</td>\n",
       "      <td>0.26</td>\n",
       "      <td>23.0</td>\n",
       "      <td>22.5</td>\n",
       "      <td>2500000.0</td>\n",
       "      <td>11045011.0</td>\n",
       "      <td>2.456707e+11</td>\n",
       "      <td>22.5</td>\n",
       "      <td>0</td>\n",
       "    </tr>\n",
       "    <tr>\n",
       "      <th>8</th>\n",
       "      <td>Hungary</td>\n",
       "      <td>HU</td>\n",
       "      <td>CTS</td>\n",
       "      <td>5.0</td>\n",
       "      <td>7.0</td>\n",
       "      <td>0.07</td>\n",
       "      <td>93.0</td>\n",
       "      <td>5.5</td>\n",
       "      <td>560000.0</td>\n",
       "      <td>9920362.0</td>\n",
       "      <td>1.273211e+11</td>\n",
       "      <td>5.5</td>\n",
       "      <td>0</td>\n",
       "    </tr>\n",
       "    <tr>\n",
       "      <th>9</th>\n",
       "      <td>Iceland</td>\n",
       "      <td>IS</td>\n",
       "      <td>CTS</td>\n",
       "      <td>0.0</td>\n",
       "      <td>0.0</td>\n",
       "      <td>0.00</td>\n",
       "      <td>15.0</td>\n",
       "      <td>30.3</td>\n",
       "      <td>90000.0</td>\n",
       "      <td>320716.0</td>\n",
       "      <td>1.421858e+10</td>\n",
       "      <td>30.3</td>\n",
       "      <td>0</td>\n",
       "    </tr>\n",
       "    <tr>\n",
       "      <th>10</th>\n",
       "      <td>Ireland</td>\n",
       "      <td>IE</td>\n",
       "      <td>CTS</td>\n",
       "      <td>42.0</td>\n",
       "      <td>21.0</td>\n",
       "      <td>0.48</td>\n",
       "      <td>70.0</td>\n",
       "      <td>8.6</td>\n",
       "      <td>360000.0</td>\n",
       "      <td>4586897.0</td>\n",
       "      <td>2.258192e+11</td>\n",
       "      <td>8.6</td>\n",
       "      <td>0</td>\n",
       "    </tr>\n",
       "    <tr>\n",
       "      <th>11</th>\n",
       "      <td>Italy</td>\n",
       "      <td>IT</td>\n",
       "      <td>NSO</td>\n",
       "      <td>66.7</td>\n",
       "      <td>417.0</td>\n",
       "      <td>0.71</td>\n",
       "      <td>55.0</td>\n",
       "      <td>11.9</td>\n",
       "      <td>7000000.0</td>\n",
       "      <td>59539717.0</td>\n",
       "      <td>2.072823e+12</td>\n",
       "      <td>11.9</td>\n",
       "      <td>0</td>\n",
       "    </tr>\n",
       "    <tr>\n",
       "      <th>12</th>\n",
       "      <td>Japan</td>\n",
       "      <td>JP</td>\n",
       "      <td>WHO-MDB</td>\n",
       "      <td>1.8</td>\n",
       "      <td>11.0</td>\n",
       "      <td>0.01</td>\n",
       "      <td>164.0</td>\n",
       "      <td>0.6</td>\n",
       "      <td>710000.0</td>\n",
       "      <td>127629000.0</td>\n",
       "      <td>6.203213e+12</td>\n",
       "      <td>0.6</td>\n",
       "      <td>0</td>\n",
       "    </tr>\n",
       "    <tr>\n",
       "      <th>13</th>\n",
       "      <td>Luxembourg</td>\n",
       "      <td>LU</td>\n",
       "      <td>CTS</td>\n",
       "      <td>42.9</td>\n",
       "      <td>3.0</td>\n",
       "      <td>0.62</td>\n",
       "      <td>41.0</td>\n",
       "      <td>15.3</td>\n",
       "      <td>70000.0</td>\n",
       "      <td>530946.0</td>\n",
       "      <td>5.667796e+10</td>\n",
       "      <td>15.3</td>\n",
       "      <td>0</td>\n",
       "    </tr>\n",
       "    <tr>\n",
       "      <th>14</th>\n",
       "      <td>New Zealand</td>\n",
       "      <td>NZ</td>\n",
       "      <td>CTS</td>\n",
       "      <td>13.5</td>\n",
       "      <td>7.0</td>\n",
       "      <td>0.16</td>\n",
       "      <td>22.0</td>\n",
       "      <td>22.6</td>\n",
       "      <td>925000.0</td>\n",
       "      <td>4408100.0</td>\n",
       "      <td>1.761929e+11</td>\n",
       "      <td>22.6</td>\n",
       "      <td>3</td>\n",
       "    </tr>\n",
       "    <tr>\n",
       "      <th>15</th>\n",
       "      <td>Norway</td>\n",
       "      <td>NO</td>\n",
       "      <td>WHO-HFA</td>\n",
       "      <td>8.1</td>\n",
       "      <td>2.0</td>\n",
       "      <td>0.05</td>\n",
       "      <td>11.0</td>\n",
       "      <td>31.3</td>\n",
       "      <td>1400000.0</td>\n",
       "      <td>5018573.0</td>\n",
       "      <td>5.097049e+11</td>\n",
       "      <td>31.3</td>\n",
       "      <td>1</td>\n",
       "    </tr>\n",
       "    <tr>\n",
       "      <th>16</th>\n",
       "      <td>Poland</td>\n",
       "      <td>PL</td>\n",
       "      <td>CTS</td>\n",
       "      <td>7.1</td>\n",
       "      <td>35.0</td>\n",
       "      <td>0.09</td>\n",
       "      <td>142.0</td>\n",
       "      <td>1.3</td>\n",
       "      <td>510000.0</td>\n",
       "      <td>38063164.0</td>\n",
       "      <td>5.003443e+11</td>\n",
       "      <td>1.3</td>\n",
       "      <td>0</td>\n",
       "    </tr>\n",
       "    <tr>\n",
       "      <th>17</th>\n",
       "      <td>Portugal</td>\n",
       "      <td>PT</td>\n",
       "      <td>CTS</td>\n",
       "      <td>33.8</td>\n",
       "      <td>44.0</td>\n",
       "      <td>0.41</td>\n",
       "      <td>72.0</td>\n",
       "      <td>8.5</td>\n",
       "      <td>900000.0</td>\n",
       "      <td>10514844.0</td>\n",
       "      <td>2.163682e+11</td>\n",
       "      <td>8.5</td>\n",
       "      <td>1</td>\n",
       "    </tr>\n",
       "    <tr>\n",
       "      <th>18</th>\n",
       "      <td>Spain</td>\n",
       "      <td>ES</td>\n",
       "      <td>CTS</td>\n",
       "      <td>21.8</td>\n",
       "      <td>90.0</td>\n",
       "      <td>0.20</td>\n",
       "      <td>61.0</td>\n",
       "      <td>10.4</td>\n",
       "      <td>4500000.0</td>\n",
       "      <td>46773055.0</td>\n",
       "      <td>1.335946e+12</td>\n",
       "      <td>10.4</td>\n",
       "      <td>1</td>\n",
       "    </tr>\n",
       "    <tr>\n",
       "      <th>19</th>\n",
       "      <td>Sweden</td>\n",
       "      <td>SE</td>\n",
       "      <td>CTS</td>\n",
       "      <td>33.9</td>\n",
       "      <td>37.0</td>\n",
       "      <td>0.41</td>\n",
       "      <td>10.0</td>\n",
       "      <td>31.6</td>\n",
       "      <td>2800000.0</td>\n",
       "      <td>9519374.0</td>\n",
       "      <td>5.438806e+11</td>\n",
       "      <td>31.6</td>\n",
       "      <td>2</td>\n",
       "    </tr>\n",
       "    <tr>\n",
       "      <th>20</th>\n",
       "      <td>Switzerland</td>\n",
       "      <td>CH</td>\n",
       "      <td>CTS</td>\n",
       "      <td>72.2</td>\n",
       "      <td>57.0</td>\n",
       "      <td>0.77</td>\n",
       "      <td>3.0</td>\n",
       "      <td>45.7</td>\n",
       "      <td>3400000.0</td>\n",
       "      <td>7996861.0</td>\n",
       "      <td>6.650541e+11</td>\n",
       "      <td>45.7</td>\n",
       "      <td>2</td>\n",
       "    </tr>\n",
       "    <tr>\n",
       "      <th>21</th>\n",
       "      <td>United States</td>\n",
       "      <td>US</td>\n",
       "      <td>CTS</td>\n",
       "      <td>60.0</td>\n",
       "      <td>9146.0</td>\n",
       "      <td>2.97</td>\n",
       "      <td>1.0</td>\n",
       "      <td>88.8</td>\n",
       "      <td>270000000.0</td>\n",
       "      <td>313998379.0</td>\n",
       "      <td>1.615526e+13</td>\n",
       "      <td>88.8</td>\n",
       "      <td>78</td>\n",
       "    </tr>\n",
       "  </tbody>\n",
       "</table>\n",
       "</div>"
      ],
      "text/plain": [
       "          Country ISO code               Source  % of homicides by firearm  \\\n",
       "0       Australia       AU                  NSO                       11.5   \n",
       "1         Austria       AT                  CTS                       29.5   \n",
       "2          Canada       CA                  CTS                       32.0   \n",
       "3         Denmark       DK                  CTS                       31.9   \n",
       "4         Finland       FI                  CTS                       19.8   \n",
       "5          France       FR              WHO-MDB                        9.6   \n",
       "6         Germany       DE  CTS/National police                       26.3   \n",
       "7          Greece       GR              WHO-MDB                       34.9   \n",
       "8         Hungary       HU                  CTS                        5.0   \n",
       "9         Iceland       IS                  CTS                        0.0   \n",
       "10        Ireland       IE                  CTS                       42.0   \n",
       "11          Italy       IT                  NSO                       66.7   \n",
       "12          Japan       JP              WHO-MDB                        1.8   \n",
       "13     Luxembourg       LU                  CTS                       42.9   \n",
       "14    New Zealand       NZ                  CTS                       13.5   \n",
       "15         Norway       NO              WHO-HFA                        8.1   \n",
       "16         Poland       PL                  CTS                        7.1   \n",
       "17       Portugal       PT                  CTS                       33.8   \n",
       "18          Spain       ES                  CTS                       21.8   \n",
       "19         Sweden       SE                  CTS                       33.9   \n",
       "20    Switzerland       CH                  CTS                       72.2   \n",
       "21  United States       US                  CTS                       60.0   \n",
       "\n",
       "    Number of homicides by firearm  Homicide by firearm rate per 100,000 pop  \\\n",
       "0                             30.0                                      0.14   \n",
       "1                             18.0                                      0.22   \n",
       "2                            173.0                                      0.51   \n",
       "3                             15.0                                      0.27   \n",
       "4                             24.0                                      0.45   \n",
       "5                             35.0                                      0.06   \n",
       "6                            158.0                                      0.19   \n",
       "7                             29.0                                      0.26   \n",
       "8                              7.0                                      0.07   \n",
       "9                              0.0                                      0.00   \n",
       "10                            21.0                                      0.48   \n",
       "11                           417.0                                      0.71   \n",
       "12                            11.0                                      0.01   \n",
       "13                             3.0                                      0.62   \n",
       "14                             7.0                                      0.16   \n",
       "15                             2.0                                      0.05   \n",
       "16                            35.0                                      0.09   \n",
       "17                            44.0                                      0.41   \n",
       "18                            90.0                                      0.20   \n",
       "19                            37.0                                      0.41   \n",
       "20                            57.0                                      0.77   \n",
       "21                          9146.0                                      2.97   \n",
       "\n",
       "    Rank by rate of ownership  Average firearms per 100 people  \\\n",
       "0                        42.0                             15.0   \n",
       "1                        14.0                             30.4   \n",
       "2                        13.0                             30.8   \n",
       "3                        54.0                             12.0   \n",
       "4                         4.0                             45.3   \n",
       "5                        12.0                             31.2   \n",
       "6                        15.0                             30.3   \n",
       "7                        23.0                             22.5   \n",
       "8                        93.0                              5.5   \n",
       "9                        15.0                             30.3   \n",
       "10                       70.0                              8.6   \n",
       "11                       55.0                             11.9   \n",
       "12                      164.0                              0.6   \n",
       "13                       41.0                             15.3   \n",
       "14                       22.0                             22.6   \n",
       "15                       11.0                             31.3   \n",
       "16                      142.0                              1.3   \n",
       "17                       72.0                              8.5   \n",
       "18                       61.0                             10.4   \n",
       "19                       10.0                             31.6   \n",
       "20                        3.0                             45.7   \n",
       "21                        1.0                             88.8   \n",
       "\n",
       "    Average total all civilian firearms          pop           gdp  \\\n",
       "0                             3050000.0   22728254.0  1.538194e+12   \n",
       "1                             2500000.0    8429991.0  4.074516e+11   \n",
       "2                             9950000.0   34750545.0  1.824289e+12   \n",
       "3                              650000.0    5591572.0  3.271489e+11   \n",
       "4                             2400000.0    5413971.0  2.567065e+11   \n",
       "5                            19000000.0   65659790.0  2.681416e+12   \n",
       "6                            25000000.0   80425823.0  3.543984e+12   \n",
       "7                             2500000.0   11045011.0  2.456707e+11   \n",
       "8                              560000.0    9920362.0  1.273211e+11   \n",
       "9                               90000.0     320716.0  1.421858e+10   \n",
       "10                             360000.0    4586897.0  2.258192e+11   \n",
       "11                            7000000.0   59539717.0  2.072823e+12   \n",
       "12                             710000.0  127629000.0  6.203213e+12   \n",
       "13                              70000.0     530946.0  5.667796e+10   \n",
       "14                             925000.0    4408100.0  1.761929e+11   \n",
       "15                            1400000.0    5018573.0  5.097049e+11   \n",
       "16                             510000.0   38063164.0  5.003443e+11   \n",
       "17                             900000.0   10514844.0  2.163682e+11   \n",
       "18                            4500000.0   46773055.0  1.335946e+12   \n",
       "19                            2800000.0    9519374.0  5.438806e+11   \n",
       "20                            3400000.0    7996861.0  6.650541e+11   \n",
       "21                          270000000.0  313998379.0  1.615526e+13   \n",
       "\n",
       "    Guns/100 inhabitants  Number of mass shootings  \n",
       "0                   15.0                         4  \n",
       "1                   30.4                         1  \n",
       "2                   30.8                         4  \n",
       "3                   12.0                         0  \n",
       "4                   45.3                         2  \n",
       "5                   31.2                         6  \n",
       "6                   30.3                         7  \n",
       "7                   22.5                         0  \n",
       "8                    5.5                         0  \n",
       "9                   30.3                         0  \n",
       "10                   8.6                         0  \n",
       "11                  11.9                         0  \n",
       "12                   0.6                         0  \n",
       "13                  15.3                         0  \n",
       "14                  22.6                         3  \n",
       "15                  31.3                         1  \n",
       "16                   1.3                         0  \n",
       "17                   8.5                         1  \n",
       "18                  10.4                         1  \n",
       "19                  31.6                         2  \n",
       "20                  45.7                         2  \n",
       "21                  88.8                        78  "
      ]
     },
     "execution_count": 31,
     "metadata": {},
     "output_type": "execute_result"
    }
   ],
   "source": [
    "df_"
   ]
  },
  {
   "cell_type": "code",
   "execution_count": 118,
   "metadata": {
    "collapsed": false
   },
   "outputs": [
    {
     "data": {
      "image/png": "[encoded data removed]",
      "text/plain": [
       "<matplotlib.figure.Figure at 0x7f5ee8630a90>"
      ]
     },
     "metadata": {},
     "output_type": "display_data"
    }
   ],
   "source": [
    "fig = pl.figure(figsize=(10,5)) \n",
    "ax = fig.add_subplot(111)\n",
    "\n",
    "scatter = ax.scatter(df_.gdp / 1e9, df_['Number of mass shootings'])\n",
    "ax.errorbar(df_.gdp / 1e9, df_['Number of mass shootings'], \n",
    "            yerr = np.sqrt(df_['Number of mass shootings'] * 1.0), fmt = '.')\n",
    "ax.set_xlabel(\"GDP (in billions)\")\n",
    "ax.set_ylabel(\"Number of mass shooting per person\")\n",
    "ax.set_ylim()\n",
    "ax.set_title('Mass shooting vs GDP')\n",
    "pl.show()"
   ]
  },
  {
   "cell_type": "code",
   "execution_count": 32,
   "metadata": {
    "collapsed": true
   },
   "outputs": [],
   "source": [
    "df_['gdppp']=df_['gdp']/df_['pop']"
   ]
  },
  {
   "cell_type": "code",
   "execution_count": 116,
   "metadata": {
    "collapsed": false
   },
   "outputs": [
    {
     "data": {
      "image/png": "[encoded data removed]",
      "text/plain": [
       "<matplotlib.figure.Figure at 0x7f5ee86fff90>"
      ]
     },
     "metadata": {},
     "output_type": "display_data"
    }
   ],
   "source": [
    "fig = pl.figure(figsize=(10,5)) \n",
    "ax = fig.add_subplot(111)\n",
    "\n",
    "scatter = ax.scatter(df_.gdppp / 1e3, df_['Number of mass shootings'])\n",
    "ax.errorbar(df_.gdppp / 1e3, df_['Number of mass shootings'], \n",
    "            yerr = np.sqrt(df_['Number of mass shootings'] * 1.0), fmt = '.')\n",
    "ax.set_xlabel(\"GDP per person (in thousands)\")\n",
    "ax.set_ylabel(\"Number of mass shooting per person\")\n",
    "ax.set_ylim()\n",
    "ax.set_title('Mass shootings vs GDP per capita')\n",
    "pl.show()"
   ]
  },
  {
   "cell_type": "code",
   "execution_count": 41,
   "metadata": {
    "collapsed": true
   },
   "outputs": [],
   "source": [
    "df_['Average civilian firearms pp'] = df_[\"Average total all civilian firearms\"] / df_['pop']"
   ]
  },
  {
   "cell_type": "code",
   "execution_count": 115,
   "metadata": {
    "collapsed": false
   },
   "outputs": [
    {
     "data": {
      "text/plain": [
       "<matplotlib.text.Text at 0x7f5ee8ac4b50>"
      ]
     },
     "execution_count": 115,
     "metadata": {},
     "output_type": "execute_result"
    },
    {
     "data": {
      "image/png": "[encoded data removed]",
      "text/plain": [
       "<matplotlib.figure.Figure at 0x7f5ee88127d0>"
      ]
     },
     "metadata": {},
     "output_type": "display_data"
    }
   ],
   "source": [
    "fig, ax = plt.subplots()\n",
    "ax.hist(df_['Average civilian firearms pp'],bins=30)\n",
    "ax.set_xlabel('Average civilian firearms per person')\n",
    "ax.set_ylabel('N');\n",
    "ax.set_title('Histogtam of firearms per person')"
   ]
  },
  {
   "cell_type": "code",
   "execution_count": 52,
   "metadata": {
    "collapsed": true
   },
   "outputs": [],
   "source": [
    "df_['Homicides pfpp']=1e6*df_['Number of homicides by firearm']/df_['pop']"
   ]
  },
  {
   "cell_type": "code",
   "execution_count": 114,
   "metadata": {
    "collapsed": false
   },
   "outputs": [
    {
     "data": {
      "image/png": "[encoded data removed]",
      "text/plain": [
       "<matplotlib.figure.Figure at 0x7f5ee8e08cd0>"
      ]
     },
     "metadata": {},
     "output_type": "display_data"
    }
   ],
   "source": [
    "fig, ax = plt.subplots()\n",
    "ax.hist(df_['Homicides pfpp'],bins=30,color='y')\n",
    "ax.set_xlabel('Average civilian homicides by firearms per a million people')\n",
    "ax.set_ylabel('N')\n",
    "y=hist(df_['Homicides pfpp'],bins=30)[0]\n",
    "x=hist(df_['Homicides pfpp'],bins=30)[1]\n",
    "ax.errorbar(x[-30:],y,yerr=np.sqrt(y)*1,fmt = '.',color='r')\n",
    "ax.set_title('Histogrtamof civilian homicides by firearm');"
   ]
  },
  {
   "cell_type": "code",
   "execution_count": 113,
   "metadata": {
    "collapsed": false
   },
   "outputs": [
    {
     "data": {
      "image/png": "[encoded data removed]",
      "text/plain": [
       "<matplotlib.figure.Figure at 0x7f5ee8c5e510>"
      ]
     },
     "metadata": {},
     "output_type": "display_data"
    }
   ],
   "source": [
    "fig = pl.figure(figsize=(10,5)) \n",
    "ax = fig.add_subplot(111)\n",
    "\n",
    "scatter = ax.scatter(df_.loc[0:20, 'Number of homicides by firearm'], df_.loc[0:20,'Average total all civilian firearms'])\n",
    "scatter = ax.scatter(df_.loc[21,'Number of homicides by firearm'], df_.loc[21,'Average total all civilian firearms'], color = 'r', label='United States')\n",
    "ax.set_xlabel(\"Number of homicides by firearm\")\n",
    "ax.set_ylabel(\"Average total of all civilian firearms\")\n",
    "ax.set_title('Homicides by firearm vs Civlian firearms')\n",
    "ax.set_ylim()\n",
    "pl.show()"
   ]
  },
  {
   "cell_type": "code",
   "execution_count": null,
   "metadata": {
    "collapsed": true
   },
   "outputs": [],
   "source": []
  }
 ],
 "metadata": {
  "kernelspec": {
   "display_name": "Python 2",
   "language": "python",
   "name": "python2"
  },
  "language_info": {
   "codemirror_mode": {
    "name": "ipython",
    "version": 2
   },
   "file_extension": ".py",
   "mimetype": "text/x-python",
   "name": "python",
   "nbconvert_exporter": "python",
   "pygments_lexer": "ipython2",
   "version": "2.7.11"
  }
 },
 "nbformat": 4,
 "nbformat_minor": 0
}
